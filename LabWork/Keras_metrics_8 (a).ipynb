{
  "nbformat": 4,
  "nbformat_minor": 0,
  "metadata": {
    "colab": {
      "name": "Keras_metrics_Lab8(i).ipynb",
      "provenance": [],
      "collapsed_sections": []
    },
    "kernelspec": {
      "name": "python3",
      "display_name": "Python 3"
    },
    "accelerator": "GPU"
  },
  "cells": [
    {
      "cell_type": "markdown",
      "metadata": {
        "id": "dJdKMnxbQ35X",
        "colab_type": "text"
      },
      "source": [
        "#Usage of metrics\n",
        "\n",
        "A metric is a function that is used to judge the performance of your model. Metric functions are to be supplied in the metrics parameter when a model is compiled.\n",
        "\n",
        "```\n",
        "model.compile(loss='mean_squared_error',\n",
        "              optimizer='sgd',\n",
        "              metrics=['mae', 'acc'])\n",
        "from keras import metrics\n",
        "\n",
        "model.compile(loss='mean_squared_error',\n",
        "              optimizer='sgd',\n",
        "              metrics=[metrics.mae, metrics.categorical_accuracy])\n",
        "```\n",
        "\n",
        "A metric function is similar to a loss function, except that the results from evaluating a metric are not used when training the model. You may use any of the loss functions as a metric function.\n",
        "\n",
        "You can either pass the name of an existing metric, or pass a Theano/TensorFlow symbolic function (see Custom metrics).\n",
        "\n",
        "##Arguments\n",
        "1. y_true: True labels. Theano/TensorFlow tensor.\n",
        "2. y_pred: Predictions. Theano/TensorFlow tensor of the same shape as y_true.\n",
        "\n",
        "##Returns\n",
        "\n",
        "1. Single tensor value representing the mean of the output array across all datapoints."
      ]
    },
    {
      "cell_type": "markdown",
      "metadata": {
        "id": "_roXIFgkRIRf",
        "colab_type": "text"
      },
      "source": [
        "#Accuracy\n",
        "keras.metrics.accuracy(y_true, y_pred)"
      ]
    },
    {
      "cell_type": "code",
      "metadata": {
        "id": "FXkjmUIiROMV",
        "colab_type": "code",
        "colab": {}
      },
      "source": [
        "import keras\n",
        "from keras import models\n",
        "from keras.layers import Dense, Dropout\n",
        "from keras.utils import to_categorical\n",
        "from keras.datasets import mnist\n",
        "from keras.utils.vis_utils import model_to_dot\n",
        "from IPython.display import SVG\n",
        "\n",
        "NUM_ROWS = 28\n",
        "NUM_COLS = 28\n",
        "NUM_CLASSES = 10\n",
        "BATCH_SIZE = 128\n",
        "EPOCHS = 10\n",
        "\n",
        "# Load data\n",
        "(X_train, y_train), (X_test, y_test) = mnist.load_data()\n",
        "\n",
        "# Reshape data\n",
        "X_train = X_train.reshape((X_train.shape[0], NUM_ROWS * NUM_COLS))\n",
        "X_train = X_train.astype('float32') / 255\n",
        "X_test = X_test.reshape((X_test.shape[0], NUM_ROWS * NUM_COLS))\n",
        "X_test = X_test.astype('float32') / 255\n",
        "\n",
        "# Categorically encode labels\n",
        "y_train = to_categorical(y_train, NUM_CLASSES)\n",
        "y_test = to_categorical(y_test, NUM_CLASSES)\n",
        "\n",
        "\n",
        "# Build neural network\n",
        "model = models.Sequential()\n",
        "model.add(Dense(512, activation='elu', input_shape=(NUM_ROWS * NUM_COLS,)))\n",
        "model.add(Dense(256, activation='elu'))\n",
        "model.add(Dense(10, activation='softmax'))\n",
        "\n",
        "# Compile model using accuracy\n",
        "model.compile(optimizer='rmsprop',\n",
        "              loss='categorical_crossentropy',\n",
        "              metrics=['accuracy'])\n",
        "\n",
        "# Train model\n",
        "model.fit(X_train, y_train,\n",
        "          batch_size=BATCH_SIZE,\n",
        "          epochs=EPOCHS,\n",
        "          verbose=1,\n",
        "          validation_data=(X_test, y_test))\n",
        "\n",
        "score = model.evaluate(X_test, y_test, verbose=0)\n",
        "print('Test loss:', score[0])\n",
        "print('Test accuracy:', score[1])"
      ],
      "execution_count": 0,
      "outputs": []
    },
    {
      "cell_type": "markdown",
      "metadata": {
        "id": "VTHlkI9CRX4M",
        "colab_type": "text"
      },
      "source": [
        "#binary_accuracy\n",
        "\n",
        "keras.metrics.binary_accuracy(y_true, y_pred, threshold=0.5)"
      ]
    },
    {
      "cell_type": "code",
      "metadata": {
        "id": "7yJ88okURbcn",
        "colab_type": "code",
        "colab": {}
      },
      "source": [
        "# Compile model using binary_accuracy\n",
        "model.compile(optimizer='rmsprop',\n",
        "              loss='categorical_crossentropy',\n",
        "              metrics=['binary_accuracy'])\n",
        "\n",
        "# Train model\n",
        "model.fit(X_train, y_train,\n",
        "          batch_size=BATCH_SIZE,\n",
        "          epochs=EPOCHS,\n",
        "          verbose=1,\n",
        "          validation_data=(X_test, y_test))\n",
        "\n",
        "score = model.evaluate(X_test, y_test, verbose=0)\n",
        "print('Test loss:', score[0])\n",
        "print('Test accuracy:', score[1])"
      ],
      "execution_count": 0,
      "outputs": []
    },
    {
      "cell_type": "markdown",
      "metadata": {
        "id": "i34lhk62Rr00",
        "colab_type": "text"
      },
      "source": [
        "#categorical_accuracy\n",
        "\n",
        "keras.metrics.categorical_accuracy(y_true, y_pred)"
      ]
    },
    {
      "cell_type": "code",
      "metadata": {
        "id": "U8yiFITLRut3",
        "colab_type": "code",
        "colab": {}
      },
      "source": [
        "# Compile model using categorical_accuracy\n",
        "model.compile(optimizer='rmsprop',\n",
        "              loss='categorical_crossentropy',\n",
        "              metrics=['categorical_accuracy'])\n",
        "\n",
        "# Train model\n",
        "model.fit(X_train, y_train,\n",
        "          batch_size=BATCH_SIZE,\n",
        "          epochs=EPOCHS,\n",
        "          verbose=1,\n",
        "          validation_data=(X_test, y_test))\n",
        "\n",
        "score = model.evaluate(X_test, y_test, verbose=0)\n",
        "print('Test loss:', score[0])\n",
        "print('Test accuracy:', score[1])"
      ],
      "execution_count": 0,
      "outputs": []
    },
    {
      "cell_type": "markdown",
      "metadata": {
        "id": "h2C271EXSqnV",
        "colab_type": "text"
      },
      "source": [
        "#top_k_categorical_accuracy\n",
        "\n",
        "keras.metrics.top_k_categorical_accuracy(y_true, y_pred, k=5)"
      ]
    },
    {
      "cell_type": "code",
      "metadata": {
        "id": "70hdQEGZSsKM",
        "colab_type": "code",
        "colab": {}
      },
      "source": [
        "# Compile model using categorical_accuracy\n",
        "model.compile(optimizer='rmsprop',\n",
        "              loss='categorical_crossentropy',\n",
        "              metrics=['top_k_categorical_accuracy'])\n",
        "\n",
        "# Train model\n",
        "model.fit(X_train, y_train,\n",
        "          batch_size=BATCH_SIZE,\n",
        "          epochs=EPOCHS,\n",
        "          verbose=1,\n",
        "          validation_data=(X_test, y_test))\n",
        "\n",
        "score = model.evaluate(X_test, y_test, verbose=0)\n",
        "print('Test loss:', score[0])\n",
        "print('Test accuracy:', score[1])"
      ],
      "execution_count": 0,
      "outputs": []
    },
    {
      "cell_type": "markdown",
      "metadata": {
        "id": "_WTKc7LCR22d",
        "colab_type": "text"
      },
      "source": [
        "#sparse_categorical_accuracy\n",
        "\n",
        "keras.metrics.sparse_categorical_accuracy(y_true, y_pred)"
      ]
    },
    {
      "cell_type": "code",
      "metadata": {
        "id": "mpEKVQaQR-iq",
        "colab_type": "code",
        "colab": {}
      },
      "source": [
        "from numpy import array\n",
        "from keras.models import Sequential\n",
        "from keras.layers import Dense\n",
        "from matplotlib import pyplot\n",
        "# prepare sequence\n",
        "X = array([0.1, 0.2, 0.3, 0.4, 0.5, 0.6, 0.7, 0.8, 0.9, 1.0])\n",
        "y = array([0, 0, 0, 0, 0, 1, 1, 1, 1, 1])\n",
        "# create model\n",
        "model = Sequential()\n",
        "model.add(Dense(2, input_dim=1))\n",
        "model.add(Dense(1, activation='sigmoid'))\n",
        "model.compile(loss='binary_crossentropy', optimizer='adam', metrics=['sparse_categorical_accuracy'])\n",
        "# train model\n",
        "history = model.fit(X, y, epochs=400, batch_size=len(X), verbose=2)"
      ],
      "execution_count": 0,
      "outputs": []
    },
    {
      "cell_type": "markdown",
      "metadata": {
        "id": "JHCFoRZKUdki",
        "colab_type": "text"
      },
      "source": [
        "#sparse_top_k_categorical_accuracy\n",
        "\n",
        "keras.metrics.sparse_top_k_categorical_accuracy(y_true, y_pred, k=5)"
      ]
    },
    {
      "cell_type": "code",
      "metadata": {
        "id": "p8FWdLp_UfPi",
        "colab_type": "code",
        "colab": {}
      },
      "source": [
        "from numpy import array\n",
        "from keras.models import Sequential\n",
        "from keras.layers import Dense\n",
        "from matplotlib import pyplot\n",
        "# prepare sequence\n",
        "X = array([0.1, 0.2, 0.3, 0.4, 0.5, 0.6, 0.7, 0.8, 0.9, 1.0])\n",
        "y = array([0, 0, 0, 0, 0, 1, 1, 1, 1, 1])\n",
        "# create model\n",
        "model = Sequential()\n",
        "model.add(Dense(2, input_dim=1))\n",
        "model.add(Dense(1, activation='sigmoid'))\n",
        "model.compile(loss='binary_crossentropy', optimizer='adam', metrics=['sparse_top_k_categorical_accuracy'])\n",
        "# train model\n",
        "history = model.fit(X, y, epochs=400, batch_size=len(X), verbose=2)"
      ],
      "execution_count": 0,
      "outputs": []
    },
    {
      "cell_type": "markdown",
      "metadata": {
        "id": "MljdGHXMUwYr",
        "colab_type": "text"
      },
      "source": [
        "#cosine_proximity\n",
        "\n",
        "keras.metrics.cosine_proximity(y_true, y_pred, axis=-1)"
      ]
    },
    {
      "cell_type": "code",
      "metadata": {
        "id": "bfLN9tE6UyQl",
        "colab_type": "code",
        "colab": {}
      },
      "source": [
        "from numpy import array\n",
        "from keras.models import Sequential\n",
        "from keras.layers import Dense\n",
        "from matplotlib import pyplot\n",
        "# prepare sequence\n",
        "X = array([0.1, 0.2, 0.3, 0.4, 0.5, 0.6, 0.7, 0.8, 0.9, 1.0])\n",
        "y = array([0, 0, 0, 0, 0, 1, 1, 1, 1, 1])\n",
        "# create model\n",
        "model = Sequential()\n",
        "model.add(Dense(2, input_dim=1))\n",
        "model.add(Dense(1, activation='sigmoid'))\n",
        "model.compile(loss='binary_crossentropy', optimizer='adam', metrics=['cosine_proximity'])\n",
        "# train model\n",
        "history = model.fit(X, y, epochs=400, batch_size=len(X), verbose=2)"
      ],
      "execution_count": 0,
      "outputs": []
    },
    {
      "cell_type": "markdown",
      "metadata": {
        "id": "2Vp_MB0QVEzU",
        "colab_type": "text"
      },
      "source": [
        "#Thank you for completing the notebook"
      ]
    },
    {
      "cell_type": "markdown",
      "metadata": {
        "id": "hgl_Y2RiMUjm",
        "colab_type": "text"
      },
      "source": [
        "##Accuracy Scores:\n",
        "*  Accuracy:\n",
        "Test loss: 0.11724409328601519,\n",
        "Test accuracy: 0.9958699966430664\n",
        "*  Binary Accuracy:\n",
        "Test loss: 0.11724409328601519,\n",
        "Test accuracy: 0.9958699966430664\n",
        "*  Categorical Accuracy:\n",
        "Test loss: 0.13706929225430842,\n",
        "Test accuracy: 0.982\n",
        "*  Top k Categorical Accuracy:\n",
        "Test loss: 0.17475141726380286,\n",
        "Test accuracy: 0.9999\n",
        "*  Sparse Categorical Accuracy:\n",
        "loss: 0.4899,  \n",
        "sparse_categorical_accuracy: 0.5000\n",
        "*  Sparse Top K Categorical Accuracy:\n",
        "loss: 0.4541, \n",
        "sparse_top_k_categorical_accuracy: 0.5000\n",
        "*  Cosine Proximity:\n",
        "loss: 0.7498,\n",
        "cosine_proximity: -5.0000e-01"
      ]
    },
    {
      "cell_type": "markdown",
      "metadata": {
        "id": "Rny3Uc7oSQmm",
        "colab_type": "text"
      },
      "source": [
        "Using Top k Categorical Accuracy metric gives the best value of accuracy."
      ]
    },
    {
      "cell_type": "markdown",
      "metadata": {
        "id": "B5dx11_qYymW",
        "colab_type": "text"
      },
      "source": [
        "##Fashion MNIST"
      ]
    },
    {
      "cell_type": "code",
      "metadata": {
        "id": "iyVL3q7gSrnN",
        "colab_type": "code",
        "colab": {
          "base_uri": "https://localhost:8080/",
          "height": 564
        },
        "outputId": "87b5a078-7433-45c6-b48a-e1cda8bcc14d"
      },
      "source": [
        "import keras\n",
        "from keras import models\n",
        "from keras.layers import Dense, Dropout\n",
        "from keras.utils import to_categorical\n",
        "from keras.datasets import fashion_mnist\n",
        "from keras.utils.vis_utils import model_to_dot\n",
        "from IPython.display import SVG\n",
        "\n",
        "NUM_ROWS = 28\n",
        "NUM_COLS = 28\n",
        "NUM_CLASSES = 10\n",
        "BATCH_SIZE = 128\n",
        "EPOCHS = 10\n",
        "\n",
        "# Load data\n",
        "(X_train, Y_train), (X_test, Y_test) = fashion_mnist.load_data()\n",
        "\n",
        "\n",
        "\n",
        "# Reshape data\n",
        "X_train = X_train.reshape((X_train.shape[0], NUM_ROWS * NUM_COLS))\n",
        "X_train = X_train.astype('float32') / 255\n",
        "X_test = X_test.reshape((X_test.shape[0], NUM_ROWS * NUM_COLS))\n",
        "X_test = X_test.astype('float32') / 255\n",
        "\n",
        "# Categorically encode labels\n",
        "Y_train = to_categorical(Y_train, NUM_CLASSES)\n",
        "Y_test = to_categorical(Y_test, NUM_CLASSES)\n",
        "\n",
        "\n",
        "# Build neural network\n",
        "model = models.Sequential()\n",
        "model.add(Dense(512, activation='relu', input_shape=(NUM_ROWS * NUM_COLS,)))\n",
        "model.add(Dense(256, activation='relu'))\n",
        "model.add(Dense(10, activation='softmax'))\n",
        "\n",
        "# Compile model using above optimizer\n",
        "model.compile(optimizer='rmsprop',\n",
        "              loss='categorical_crossentropy',\n",
        "              metrics=['top_k_categorical_accuracy'])\n",
        "\n",
        "# Train model\n",
        "model.fit(X_train, Y_train,\n",
        "          batch_size=BATCH_SIZE,\n",
        "          epochs=EPOCHS,\n",
        "          verbose=1,\n",
        "          validation_data=(X_test, Y_test))\n",
        "\n",
        "score = model.evaluate(X_test, Y_test, verbose=0)\n",
        "print('Test loss:', score[0])\n",
        "print('Test accuracy:', score[1])"
      ],
      "execution_count": 8,
      "outputs": [
        {
          "output_type": "stream",
          "text": [
            "Downloading data from http://fashion-mnist.s3-website.eu-central-1.amazonaws.com/train-labels-idx1-ubyte.gz\n",
            "32768/29515 [=================================] - 0s 3us/step\n",
            "Downloading data from http://fashion-mnist.s3-website.eu-central-1.amazonaws.com/train-images-idx3-ubyte.gz\n",
            "26427392/26421880 [==============================] - 2s 0us/step\n",
            "Downloading data from http://fashion-mnist.s3-website.eu-central-1.amazonaws.com/t10k-labels-idx1-ubyte.gz\n",
            "8192/5148 [===============================================] - 0s 0us/step\n",
            "Downloading data from http://fashion-mnist.s3-website.eu-central-1.amazonaws.com/t10k-images-idx3-ubyte.gz\n",
            "4423680/4422102 [==============================] - 1s 0us/step\n",
            "Train on 60000 samples, validate on 10000 samples\n",
            "Epoch 1/10\n",
            "60000/60000 [==============================] - 3s 46us/step - loss: 0.5409 - top_k_categorical_accuracy: 0.9932 - val_loss: 0.4342 - val_top_k_categorical_accuracy: 0.9965\n",
            "Epoch 2/10\n",
            "60000/60000 [==============================] - 2s 37us/step - loss: 0.3756 - top_k_categorical_accuracy: 0.9979 - val_loss: 0.4316 - val_top_k_categorical_accuracy: 0.9970\n",
            "Epoch 3/10\n",
            "60000/60000 [==============================] - 2s 38us/step - loss: 0.3321 - top_k_categorical_accuracy: 0.9984 - val_loss: 0.4155 - val_top_k_categorical_accuracy: 0.9970\n",
            "Epoch 4/10\n",
            "60000/60000 [==============================] - 2s 36us/step - loss: 0.3108 - top_k_categorical_accuracy: 0.9986 - val_loss: 0.3596 - val_top_k_categorical_accuracy: 0.9975\n",
            "Epoch 5/10\n",
            "60000/60000 [==============================] - 2s 36us/step - loss: 0.2920 - top_k_categorical_accuracy: 0.9990 - val_loss: 0.3646 - val_top_k_categorical_accuracy: 0.9978\n",
            "Epoch 6/10\n",
            "60000/60000 [==============================] - 2s 35us/step - loss: 0.2775 - top_k_categorical_accuracy: 0.9993 - val_loss: 0.3716 - val_top_k_categorical_accuracy: 0.9971\n",
            "Epoch 7/10\n",
            "60000/60000 [==============================] - 2s 37us/step - loss: 0.2653 - top_k_categorical_accuracy: 0.9992 - val_loss: 0.4271 - val_top_k_categorical_accuracy: 0.9980\n",
            "Epoch 8/10\n",
            "60000/60000 [==============================] - 2s 37us/step - loss: 0.2560 - top_k_categorical_accuracy: 0.9994 - val_loss: 0.3789 - val_top_k_categorical_accuracy: 0.9980\n",
            "Epoch 9/10\n",
            "60000/60000 [==============================] - 2s 36us/step - loss: 0.2449 - top_k_categorical_accuracy: 0.9994 - val_loss: 0.3677 - val_top_k_categorical_accuracy: 0.9977\n",
            "Epoch 10/10\n",
            "60000/60000 [==============================] - 2s 36us/step - loss: 0.2380 - top_k_categorical_accuracy: 0.9995 - val_loss: 0.3866 - val_top_k_categorical_accuracy: 0.9980\n",
            "Test loss: 0.3865858948856592\n",
            "Test accuracy: 0.998\n"
          ],
          "name": "stdout"
        }
      ]
    },
    {
      "cell_type": "markdown",
      "metadata": {
        "id": "DSs7L8evZJv8",
        "colab_type": "text"
      },
      "source": [
        "##CIFAR 10"
      ]
    },
    {
      "cell_type": "code",
      "metadata": {
        "id": "eU8jV9P7ZGKc",
        "colab_type": "code",
        "colab": {
          "base_uri": "https://localhost:8080/",
          "height": 462
        },
        "outputId": "ab055b17-eef3-42e9-d9a3-b8adecad6154"
      },
      "source": [
        "from keras.datasets import cifar10\n",
        "from keras.models import Sequential\n",
        "from keras.layers import Dense, Dropout, Activation, Flatten\n",
        "from keras.utils import to_categorical\n",
        "\n",
        "#import dataset\n",
        "(X_train, Y_train), (X_test, Y_test) = cifar10.load_data()\n",
        "\n",
        "#change shape from image to vector\n",
        "X_train = X_train.reshape(50000, 32 * 32 * 3)\n",
        "X_test = X_test.reshape(10000, 32 * 32 * 3)\n",
        "\n",
        "#preprocess\n",
        "X_train = X_train.astype('float32')\n",
        "X_test = X_test.astype('float32')\n",
        "X_train /= 255.0\n",
        "X_test /= 255.0\n",
        "\n",
        "#change labels from numeric to one hot encoded\n",
        "Y_train = to_categorical(Y_train, 10)\n",
        "Y_test =  to_categorical(Y_test, 10)\n",
        "\n",
        "#Model building\n",
        "model = Sequential()\n",
        "model.add(Dense(1024, input_shape=(3072, )))\n",
        "model.add(Activation('relu'))\n",
        "model.add(Dense(512))\n",
        "model.add(Activation('relu'))\n",
        "model.add(Dense(512))\n",
        "model.add(Activation('relu'))\n",
        "model.add(Dense(10))\n",
        "model.add(Activation('softmax'))\n",
        "\n",
        "# Compile model using above optimizer\n",
        "model.compile(optimizer='rmsprop',\n",
        "              loss='categorical_crossentropy',\n",
        "              metrics=['top_k_categorical_accuracy'])\n",
        "\n",
        "# Train model\n",
        "model.fit(X_train, Y_train,\n",
        "          batch_size=BATCH_SIZE,\n",
        "          epochs=EPOCHS,\n",
        "          verbose=1,\n",
        "          validation_data=(X_test, Y_test))\n",
        "\n",
        "score = model.evaluate(X_test, Y_test, verbose=0)\n",
        "print('Test loss:', score[0])\n",
        "print('Test accuracy:', score[1])"
      ],
      "execution_count": 9,
      "outputs": [
        {
          "output_type": "stream",
          "text": [
            "Downloading data from https://www.cs.toronto.edu/~kriz/cifar-10-python.tar.gz\n",
            "170500096/170498071 [==============================] - 2s 0us/step\n",
            "Train on 50000 samples, validate on 10000 samples\n",
            "Epoch 1/10\n",
            "50000/50000 [==============================] - 3s 62us/step - loss: 3.2861 - top_k_categorical_accuracy: 0.7344 - val_loss: 1.9489 - val_top_k_categorical_accuracy: 0.8056\n",
            "Epoch 2/10\n",
            "50000/50000 [==============================] - 3s 53us/step - loss: 1.8113 - top_k_categorical_accuracy: 0.8454 - val_loss: 1.8401 - val_top_k_categorical_accuracy: 0.8547\n",
            "Epoch 3/10\n",
            "50000/50000 [==============================] - 3s 51us/step - loss: 1.7051 - top_k_categorical_accuracy: 0.8732 - val_loss: 1.6414 - val_top_k_categorical_accuracy: 0.8878\n",
            "Epoch 4/10\n",
            "50000/50000 [==============================] - 3s 51us/step - loss: 1.6324 - top_k_categorical_accuracy: 0.8875 - val_loss: 1.5921 - val_top_k_categorical_accuracy: 0.9007\n",
            "Epoch 5/10\n",
            "50000/50000 [==============================] - 3s 52us/step - loss: 1.5796 - top_k_categorical_accuracy: 0.8977 - val_loss: 1.6167 - val_top_k_categorical_accuracy: 0.8892\n",
            "Epoch 6/10\n",
            "50000/50000 [==============================] - 3s 52us/step - loss: 1.5314 - top_k_categorical_accuracy: 0.9049 - val_loss: 1.5739 - val_top_k_categorical_accuracy: 0.9029\n",
            "Epoch 7/10\n",
            "50000/50000 [==============================] - 3s 51us/step - loss: 1.5005 - top_k_categorical_accuracy: 0.9111 - val_loss: 1.5117 - val_top_k_categorical_accuracy: 0.9120\n",
            "Epoch 8/10\n",
            "50000/50000 [==============================] - 3s 51us/step - loss: 1.4703 - top_k_categorical_accuracy: 0.9158 - val_loss: 1.5494 - val_top_k_categorical_accuracy: 0.9013\n",
            "Epoch 9/10\n",
            "50000/50000 [==============================] - 3s 51us/step - loss: 1.4453 - top_k_categorical_accuracy: 0.9199 - val_loss: 1.5495 - val_top_k_categorical_accuracy: 0.9095\n",
            "Epoch 10/10\n",
            "50000/50000 [==============================] - 3s 52us/step - loss: 1.4175 - top_k_categorical_accuracy: 0.9244 - val_loss: 1.5924 - val_top_k_categorical_accuracy: 0.9046\n",
            "Test loss: 1.5923908405303955\n",
            "Test accuracy: 0.9046\n"
          ],
          "name": "stdout"
        }
      ]
    },
    {
      "cell_type": "markdown",
      "metadata": {
        "id": "xYLbPAIBZY1-",
        "colab_type": "text"
      },
      "source": [
        "##CIFAR 100"
      ]
    },
    {
      "cell_type": "code",
      "metadata": {
        "id": "RLgVEPs5ZXRd",
        "colab_type": "code",
        "colab": {
          "base_uri": "https://localhost:8080/",
          "height": 462
        },
        "outputId": "795dd662-8b87-4037-95b6-89c7f1da572b"
      },
      "source": [
        "from keras.datasets import cifar100\n",
        "from keras.models import Sequential\n",
        "from keras.layers import Dense, Dropout, Activation, Flatten\n",
        "from keras.utils import to_categorical\n",
        "\n",
        "#import dataset\n",
        "(X_train, Y_train), (X_test, Y_test) = cifar100.load_data()\n",
        "\n",
        "#change shape from image to vector\n",
        "X_train = X_train.reshape(50000, 32 * 32 * 3)\n",
        "X_test = X_test.reshape(10000, 32 * 32 * 3)\n",
        "\n",
        "#preprocess\n",
        "X_train = X_train.astype('float32')\n",
        "X_test = X_test.astype('float32')\n",
        "X_train /= 255.0\n",
        "X_test /= 255.0\n",
        "\n",
        "#change labels from numeric to one hot encoded\n",
        "Y_train = to_categorical(Y_train, 100)\n",
        "Y_test =  to_categorical(Y_test, 100)\n",
        "\n",
        "#Model building\n",
        "model = Sequential()\n",
        "model.add(Dense(1024, input_shape=(3072, )))\n",
        "model.add(Activation('relu'))\n",
        "model.add(Dense(512))\n",
        "model.add(Activation('relu'))\n",
        "model.add(Dense(512))\n",
        "model.add(Activation('relu'))\n",
        "model.add(Dense(100))\n",
        "model.add(Activation('softmax'))\n",
        "\n",
        "\n",
        "from keras import optimizers\n",
        "adamax=keras.optimizers.Adamax(lr=0.002, beta_1=0.9, beta_2=0.999)\n",
        "\n",
        "# Compile model using above optimizer\n",
        "model.compile(optimizer='rmsprop',\n",
        "              loss='categorical_crossentropy',\n",
        "              metrics=['top_k_categorical_accuracy'])\n",
        "\n",
        "# Train model\n",
        "model.fit(X_train, Y_train,\n",
        "          batch_size=BATCH_SIZE,\n",
        "          epochs=EPOCHS,\n",
        "          verbose=1,\n",
        "          validation_data=(X_test, Y_test))\n",
        "\n",
        "score = model.evaluate(X_test, Y_test, verbose=0)\n",
        "print('Test loss:', score[0])\n",
        "print('Test accuracy:', score[1])"
      ],
      "execution_count": 10,
      "outputs": [
        {
          "output_type": "stream",
          "text": [
            "Downloading data from https://www.cs.toronto.edu/~kriz/cifar-100-python.tar.gz\n",
            "169009152/169001437 [==============================] - 2s 0us/step\n",
            "Train on 50000 samples, validate on 10000 samples\n",
            "Epoch 1/10\n",
            "50000/50000 [==============================] - 3s 65us/step - loss: 4.2561 - top_k_categorical_accuracy: 0.2062 - val_loss: 3.8601 - val_top_k_categorical_accuracy: 0.3209\n",
            "Epoch 2/10\n",
            "50000/50000 [==============================] - 3s 54us/step - loss: 3.7841 - top_k_categorical_accuracy: 0.3392 - val_loss: 3.6936 - val_top_k_categorical_accuracy: 0.3655\n",
            "Epoch 3/10\n",
            "50000/50000 [==============================] - 3s 53us/step - loss: 3.5923 - top_k_categorical_accuracy: 0.3949 - val_loss: 3.7153 - val_top_k_categorical_accuracy: 0.3720\n",
            "Epoch 4/10\n",
            "50000/50000 [==============================] - 3s 53us/step - loss: 3.4602 - top_k_categorical_accuracy: 0.4353 - val_loss: 3.7476 - val_top_k_categorical_accuracy: 0.3632\n",
            "Epoch 5/10\n",
            "50000/50000 [==============================] - 3s 54us/step - loss: 3.3549 - top_k_categorical_accuracy: 0.4627 - val_loss: 3.5050 - val_top_k_categorical_accuracy: 0.4241\n",
            "Epoch 6/10\n",
            "50000/50000 [==============================] - 3s 52us/step - loss: 3.2582 - top_k_categorical_accuracy: 0.4878 - val_loss: 3.5166 - val_top_k_categorical_accuracy: 0.4418\n",
            "Epoch 7/10\n",
            "50000/50000 [==============================] - 3s 52us/step - loss: 3.1856 - top_k_categorical_accuracy: 0.5049 - val_loss: 3.5346 - val_top_k_categorical_accuracy: 0.4303\n",
            "Epoch 8/10\n",
            "50000/50000 [==============================] - 3s 52us/step - loss: 3.1202 - top_k_categorical_accuracy: 0.5245 - val_loss: 3.5133 - val_top_k_categorical_accuracy: 0.4383\n",
            "Epoch 9/10\n",
            "50000/50000 [==============================] - 3s 51us/step - loss: 3.0610 - top_k_categorical_accuracy: 0.5371 - val_loss: 3.5925 - val_top_k_categorical_accuracy: 0.4405\n",
            "Epoch 10/10\n",
            "50000/50000 [==============================] - 3s 53us/step - loss: 3.0100 - top_k_categorical_accuracy: 0.5510 - val_loss: 3.4592 - val_top_k_categorical_accuracy: 0.4706\n",
            "Test loss: 3.4592424888610838\n",
            "Test accuracy: 0.4706\n"
          ],
          "name": "stdout"
        }
      ]
    },
    {
      "cell_type": "code",
      "metadata": {
        "id": "oTyw8lciZ3s8",
        "colab_type": "code",
        "colab": {}
      },
      "source": [
        ""
      ],
      "execution_count": 0,
      "outputs": []
    }
  ]
}